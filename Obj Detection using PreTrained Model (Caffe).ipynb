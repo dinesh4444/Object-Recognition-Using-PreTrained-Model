{
 "cells": [
  {
   "cell_type": "code",
   "execution_count": null,
   "id": "2249fdfa",
   "metadata": {},
   "outputs": [],
   "source": [
    "#Download these for further process\n",
    "\n",
    "\"https://github.com/PINTO0309/MobileNet-SSD-RealSense/blob/master/caffemodel/MobileNetSSD/MobileNetSSD_deploy.caffemodel\"\n",
    "\n",
    "\"https://github.com/nikmart/pi-object-detection/blob/master/MobileNetSSD_deploy.prototxt.txt\"\n"
   ]
  },
  {
   "cell_type": "code",
   "execution_count": 3,
   "id": "e543ae59",
   "metadata": {},
   "outputs": [],
   "source": [
    "#Import Libraries\n",
    "\n",
    "import numpy as np\n",
    "import cv2\n",
    "import imutils\n",
    "import time"
   ]
  },
  {
   "cell_type": "code",
   "execution_count": 4,
   "id": "191360ff",
   "metadata": {},
   "outputs": [],
   "source": [
    "#Assign variable for prototxt and model\n",
    "prototxt = \"MobileNetSSD_deploy.prototxt.txt\"\n",
    "model = 'MobileNetSSD_deploy.caffemodel'\n",
    "confThresh = 0.2            #for confidence checking"
   ]
  },
  {
   "cell_type": "code",
   "execution_count": 10,
   "id": "3100a2bd",
   "metadata": {},
   "outputs": [
    {
     "name": "stdout",
     "output_type": "stream",
     "text": [
      "Loading model...\n",
      "Model Loaded\n",
      "Starting Camera feed\n"
     ]
    }
   ],
   "source": [
    "CLASSES = [\"background\",\"aeroplane\",\"bicycle\",\"bird\",\"boat\",\"bottle\",\n",
    "          \"bus\",\"car\",\"cat\",\"chair\",\"cow\",\"diningtable\",\"dog\",\"horse\",\"motorbike\",\n",
    "          \"person\",\"pottedplant\",\"sheep\",\"sofa\",\"train\",\"tvmonitor\"]\n",
    "COLORS = np.random.uniform(0,255, size=(len(CLASSES),3))\n",
    "print(\"Loading model...\")\n",
    "net = cv2.dnn.readNetFromCaffe(prototxt, model)\n",
    "print(\"Model Loaded\")\n",
    "print(\"Starting Camera feed\")\n",
    "\n",
    "vs = cv2.VideoCapture(0)\n",
    "time.sleep(2.0)\n",
    "\n",
    "while True:\n",
    "    _, frame = vs.read()\n",
    "    frame = imutils.resize(frame, width=500)\n",
    "    (h, w) = frame.shape[:2]\n",
    "    imageResizeBlob = cv2.resize(frame, (300,300))\n",
    "    blob = cv2.dnn.blobFromImage(imageResizeBlob, 0.007843, (300,300), 127.5)\n",
    "    net.setInput(blob)\n",
    "    \n",
    "    detections = net.forward()\n",
    "    detshape = detections.shape[2]\n",
    "    for i in np.arange(0, detshape):\n",
    "        confidence = detections[0,0,i,2]\n",
    "        if confidence > confThresh:\n",
    "            idx = int(detections[0,0,i,1])\n",
    "            box = detections[0,0,i,3:7]* np.array([w,h,w,h])\n",
    "            (startX, startY, endX, endY) = box.astype('int')\n",
    "            label = \"{}:{:2f}%\".format(CLASSES[idx], confidence*100)\n",
    "            cv2.rectangle(frame, (startX, startY),(endX,endY), COLORS[idx], 2)\n",
    "            if startY - 15 > 15:\n",
    "                y = startY - 15\n",
    "            else:\n",
    "                startY + 15\n",
    "            cv2.putText(frame, label, (startX, y), cv2.FONT_HERSHEY_SIMPLEX, 0.5, COLORS[idx], 2)\n",
    "    cv2.imshow(\"Frame\", frame)\n",
    "    key = cv2.waitKey(1)\n",
    "    if key == 27:\n",
    "        break\n",
    "        \n",
    "vs.release()\n",
    "cv2.destroyAllWindows()"
   ]
  }
 ],
 "metadata": {
  "kernelspec": {
   "display_name": "Python 3 (ipykernel)",
   "language": "python",
   "name": "python3"
  },
  "language_info": {
   "codemirror_mode": {
    "name": "ipython",
    "version": 3
   },
   "file_extension": ".py",
   "mimetype": "text/x-python",
   "name": "python",
   "nbconvert_exporter": "python",
   "pygments_lexer": "ipython3",
   "version": "3.9.13"
  }
 },
 "nbformat": 4,
 "nbformat_minor": 5
}
